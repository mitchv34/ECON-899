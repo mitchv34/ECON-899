{
 "cells": [
  {
   "cell_type": "markdown",
   "source": [
    "# Growth Model\n",
    "\n",
    "## Initizalizing the Model"
   ],
   "metadata": {}
  },
  {
   "cell_type": "code",
   "execution_count": 1,
   "source": [
    "using Parameters\n",
    "\n",
    "@with_kw struct Primitives\n",
    "    β::Float64 = 0.99 #discount rate\n",
    "    δ::Float64 = 0.025 #depreciation rate\n",
    "    α::Float64 = 0.36 #capital share\n",
    "    k_min::Float64 = 0.01 #capital lower bound\n",
    "    k_max::Float64 = 75.0 #capital upper bound\n",
    "    nk::Int64 = 1000 #number of capital grid points\n",
    "    k_grid::Array{Float64,1} = collect(range(k_min, length = nk, stop = k_max)) #capital grid\n",
    "end\n",
    "\n",
    "#structure that holds model results\n",
    "mutable struct Results\n",
    "    val_func::Array{Float64, 1} #value function\n",
    "    pol_func::Array{Float64, 1} #policy function\n",
    "end\n",
    "\n",
    "#function for initializing model primitives and results\n",
    "function Initialize()\n",
    "    prim = Primitives() #initialize primtiives\n",
    "    val_func = zeros(prim.nk) #initial value function guess\n",
    "    pol_func = zeros(prim.nk) #initial policy function guess\n",
    "    res = Results(val_func, pol_func) #initialize results struct\n",
    "    prim, res #return deliverables\n",
    "end"
   ],
   "outputs": [
    {
     "output_type": "display_data",
     "data": {
      "text/plain": [
       "Initialize (generic function with 1 method)"
      ]
     },
     "metadata": {}
    }
   ],
   "metadata": {}
  },
  {
   "cell_type": "code",
   "execution_count": 2,
   "source": [
    "prim, res = Initialize()"
   ],
   "outputs": [
    {
     "output_type": "display_data",
     "data": {
      "text/plain": [
       "(Primitives\n",
       "  β: Float64 0.99\n",
       "  δ: Float64 0.025\n",
       "  α: Float64 0.36\n",
       "  k_min: Float64 0.01\n",
       "  k_max: Float64 75.0\n",
       "  nk: Int64 1000\n",
       "  k_grid: Array{Float64}((1000,)) [0.01, 0.08506506506506506, 0.16013013013013014, 0.2351951951951952, 0.31026026026026027, 0.3853253253253253, 0.46039039039039037, 0.5354554554554555, 0.6105205205205205, 0.6855855855855856  …  74.32441441441442, 74.39947947947948, 74.47454454454454, 74.5496096096096, 74.62467467467468, 74.69973973973974, 74.7748048048048, 74.84986986986986, 74.92493493493494, 75.0]\n",
       ", Results([0.0, 0.0, 0.0, 0.0, 0.0, 0.0, 0.0, 0.0, 0.0, 0.0  …  0.0, 0.0, 0.0, 0.0, 0.0, 0.0, 0.0, 0.0, 0.0, 0.0], [0.0, 0.0, 0.0, 0.0, 0.0, 0.0, 0.0, 0.0, 0.0, 0.0  …  0.0, 0.0, 0.0, 0.0, 0.0, 0.0, 0.0, 0.0, 0.0, 0.0]))"
      ]
     },
     "metadata": {}
    }
   ],
   "metadata": {}
  },
  {
   "cell_type": "markdown",
   "source": [
    "## Solving The Model\n",
    "\n",
    "The agents solve the following maximization problem:\n",
    "\n",
    "$$\\begin{aligned}\\max_{c_t, k_{t+1}}&\\quad \\sum_{t=0}^{\\infty} \\ln{(c_t)}\\\\ s.t.& \\quad c_t + k_{t+1} \\leq z_t k_t^\\alpha + (1-\\delta) k_t  \\end{aligned}$$\n",
    "\n",
    "We can solve this problem using using Dynamic Programming:\n",
    "\n",
    "$$v(k) = \\max_{c, k' \\in \\Gamma(k)} \\left\\{\\log(c) + \\beta v(k')\\right\\}$$\n",
    "\n",
    "Since the utility function is increasing then we can assume $$c = z k^\\alpha + (1-\\delta) k  - k'$$\n",
    "\n",
    "Next we define a fucntion `Bellman` that recieves the parameters of the model and returns the value function:"
   ],
   "metadata": {}
  },
  {
   "cell_type": "code",
   "execution_count": null,
   "source": [
    "function Bellman(prim::Primitives,res::Results)\n",
    "    @unpack val_func = res #unpack value function\n",
    "    @unpack k_grid, β, δ, α, nk = prim #unpack model primitives\n",
    "    v_next = zeros(nk) #next guess of value function to fill\n",
    "    choice_lower = 1 #for exploiting monotonicity of policy function\n",
    "    \n",
    "    for k_index = 1:nk\n",
    "        k = k_grid[k_index] #value of k\n",
    "        candidate_max = -Inf #bad candidate max\n",
    "        budget = k^α + (1-δ)*k #budget\n",
    "\n",
    "        for kp_index in choice_lower:nk #loop over possible selections of k', exploiting monotonicity of policy function\n",
    "            c = budget - k_grid[kp_index] #consumption given k' selection\n",
    "            if c>0 #check for positivity\n",
    "                val = log(c) + β*val_func[kp_index] #compute value\n",
    "                if val>candidate_max #check for new max value\n",
    "                    candidate_max = val #update max value\n",
    "                    res.pol_func[k_index] = k_grid[kp_index] #update policy function\n",
    "                    choice_lower = kp_index #update lowest possible choice\n",
    "                end\n",
    "            end\n",
    "        end\n",
    "    \n",
    "        v_next[k_index] = candidate_max #update value function\n",
    "    end\n",
    "    \n",
    "    v_next #return next guess of value function\n",
    "end\n",
    "\n",
    "# TODO: Explain all this in next markdown cell"
   ],
   "outputs": [
    {
     "output_type": "display_data",
     "data": {
      "text/plain": [
       "Bellman (generic function with 1 method)"
      ]
     },
     "metadata": {}
    }
   ],
   "metadata": {}
  },
  {
   "cell_type": "markdown",
   "source": [
    "**Outter loop**:\n",
    "\n",
    "* `k`: the current capital is choosen from `k_grid`  a grid of all possible capital levels.\n",
    "* `budget`: the current budget is $zk^\\alpha + (1-\\delta)k$, note that in this example $z=1$.\n",
    "* `candidate_max`: is the initial value of the value function, initialized to something very small (always will be updated).\n",
    "* `choice_lower`: \n",
    "\n",
    "* **Inner loop**:\n",
    "\n",
    "    * `kp_index`: the index of the next capital level, iterate over all possible capital levels.\n",
    "    * `c`: the consumption if next period capital is `k_grid[kp_index]`. If consumption is not positive then we inmediatley discard this level.\n",
    "    * `val`: the value with the selected capital level, if this value is greater than the current value then we update the policy function and update `choice_lower`\n",
    "    * `v_next`: the value of the value function with the next capital level."
   ],
   "metadata": {}
  },
  {
   "cell_type": "markdown",
   "source": [],
   "metadata": {}
  },
  {
   "cell_type": "code",
   "execution_count": 5,
   "source": [
    "v_next = Bellman(prim, res) "
   ],
   "outputs": [
    {
     "output_type": "display_data",
     "data": {
      "text/plain": [
       "1000-element Vector{Float64}:\n",
       " -1.6591741470563819\n",
       " -0.7240986861020424\n",
       " -0.41057394607835707\n",
       " -0.20675782529969303\n",
       " -0.0526822847845916\n",
       "  0.07241665133489694\n",
       "  0.17834300810514114\n",
       "  0.2705533187910241\n",
       "  0.35241701696170696\n",
       "  0.42617029767126136\n",
       "  ⋮\n",
       "  4.3470154718910035\n",
       "  4.347984632445973\n",
       "  4.3489528403643245\n",
       "  4.3499200975263275\n",
       "  4.3508864058066745\n",
       "  4.351851767074507\n",
       "  4.35281618319343\n",
       "  4.35377965602154\n",
       "  4.354742187411443"
      ]
     },
     "metadata": {}
    }
   ],
   "metadata": {}
  },
  {
   "cell_type": "markdown",
   "source": [],
   "metadata": {}
  }
 ],
 "metadata": {
  "hide_input": false,
  "kernelspec": {
   "display_name": "Julia 1.6.2",
   "language": "julia",
   "name": "julia-1.6"
  },
  "language_info": {
   "codemirror_mode": {
    "name": "ipython",
    "version": 3
   },
   "file_extension": ".py",
   "mimetype": "text/x-python",
   "name": "julia",
   "nbconvert_exporter": "python",
   "pygments_lexer": "ipython3",
   "version": "3.7.3"
  },
  "toc": {
   "base_numbering": 1,
   "nav_menu": {},
   "number_sections": true,
   "sideBar": true,
   "skip_h1_title": false,
   "title_cell": "Table of Contents",
   "title_sidebar": "Contents",
   "toc_cell": false,
   "toc_position": {},
   "toc_section_display": true,
   "toc_window_display": false
  },
  "varInspector": {
   "cols": {
    "lenName": 16,
    "lenType": 16,
    "lenVar": 40
   },
   "kernels_config": {
    "python": {
     "delete_cmd_postfix": "",
     "delete_cmd_prefix": "del ",
     "library": "var_list.py",
     "varRefreshCmd": "print(var_dic_list())"
    },
    "r": {
     "delete_cmd_postfix": ") ",
     "delete_cmd_prefix": "rm(",
     "library": "var_list.r",
     "varRefreshCmd": "cat(var_dic_list()) "
    }
   },
   "types_to_exclude": [
    "module",
    "function",
    "builtin_function_or_method",
    "instance",
    "_Feature"
   ],
   "window_display": true
  }
 },
 "nbformat": 4,
 "nbformat_minor": 2
}