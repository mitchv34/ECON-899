{
 "cells": [
  {
   "cell_type": "markdown",
   "source": [
    "# Problem Set 2\n",
    "\n",
    "## Question 1\n",
    "\n",
    " Consider the same environment as Huggett (1993, JEDC) except assume that there are enforceable insurance markets regarding the idiosyncratic shocks to earnings and that there are no initial asset holdings. Solve for a competitive equilibrium. What are prices? What is the allocation? (Hint: think about the planner's problem and then decentralize)."
   ],
   "metadata": {}
  },
  {
   "cell_type": "markdown",
   "source": [
    "## Answer 1\n",
    "\n",
    "We start by setting up the model. Consider the following enviroment:\n",
    "\n",
    "* Unit measure of agents with preferences $$E_{0}\\left[\\sum_{t=0}^{\\infty} \\beta^{t} U\\left(c_{t}\\right)\\right]$$ whith $U$ continously differentiable, strictly increasing, strictly concave and bounded.\n",
    "\n",
    "* There are two earning shocks $s_t\\in S=\\{e,u\\}$.\n",
    "\n",
    "* Shocks follow a Markov process with transition matrix $\\Pi$ whose elemets are the probabilities of going from $s$ to $s'$, $\\pi(s\\mid s')$.\n",
    "\n",
    "* Income is $y(e)=1>b=y(u)$.\n",
    "\n"
   ],
   "metadata": {}
  },
  {
   "cell_type": "markdown",
   "source": [],
   "metadata": {}
  }
 ],
 "metadata": {
  "orig_nbformat": 4,
  "language_info": {
   "name": "julia"
  },
  "kernelspec": {
   "name": "julia-1.6",
   "display_name": "Julia 1.6.2",
   "language": "julia"
  }
 },
 "nbformat": 4,
 "nbformat_minor": 2
}